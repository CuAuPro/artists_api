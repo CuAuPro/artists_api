{
 "cells": [
  {
   "cell_type": "markdown",
   "metadata": {},
   "source": [
    "# Import libraries"
   ]
  },
  {
   "cell_type": "code",
   "execution_count": null,
   "metadata": {},
   "outputs": [],
   "source": [
    "import swagger_client\n",
    "from swagger_client.rest import ApiException\n",
    "from pprint import pprint"
   ]
  },
  {
   "cell_type": "markdown",
   "metadata": {},
   "source": [
    "# Test API"
   ]
  },
  {
   "cell_type": "code",
   "execution_count": null,
   "metadata": {},
   "outputs": [],
   "source": [
    "\n",
    "# Configure HTTP basic authorization: BasicAuth\n",
    "configuration = swagger_client.Configuration()\n",
    "configuration.username = 'YOUR_USERNAME'\n",
    "configuration.password = 'YOUR_PASSWORD'\n",
    "# create an instance of the API class\n",
    "api_instance = swagger_client.RecordsApi(swagger_client.ApiClient(configuration))\n",
    "limit = 56 # int | Limits the number of items on a page (optional)\n",
    "offset = 56 # int | Specifies the page number of the artists to be displayed (optional)\n",
    "try:\n",
    "    api_response = api_instance.artists_get(limit=limit, offset=offset)\n",
    "    pprint(api_response)\n",
    "except ApiException as e:\n",
    "    print(\"Exception when calling RecordsApi->artists_get: %s\\n\" % e)"
   ]
  },
  {
   "cell_type": "code",
   "execution_count": null,
   "metadata": {},
   "outputs": [],
   "source": [
    "# Configure HTTP basic authorization: BasicAuth\n",
    "configuration = swagger_client.Configuration()\n",
    "configuration.username = 'YOUR_USERNAME'\n",
    "configuration.password = 'YOUR_PASSWORD'\n",
    "\n",
    "# create an instance of the API class\n",
    "api_instance = swagger_client.RecordsApi(swagger_client.ApiClient(configuration))\n",
    "body = swagger_client.Artist(\"Artist1\", \"Genre2\", 4, \"username3\") # Artist | \n",
    "\n",
    "try:\n",
    "    api_instance.artists_post(body)\n",
    "except ApiException as e:\n",
    "    print(\"Exception when calling RecordsApi->artists_post: %s\\n\" % e)"
   ]
  },
  {
   "cell_type": "code",
   "execution_count": null,
   "metadata": {},
   "outputs": [],
   "source": [
    "# Configure HTTP basic authorization: BasicAuth\n",
    "configuration = swagger_client.Configuration()\n",
    "configuration.username = 'YOUR_USERNAME'\n",
    "configuration.password = 'YOUR_PASSWORD'\n",
    "\n",
    "# create an instance of the API class\n",
    "api_instance = swagger_client.RecordsApi(swagger_client.ApiClient(configuration))\n",
    "username = 'username_example' # str | \n",
    "\n",
    "try:\n",
    "    # Delete an artist by username\n",
    "    api_instance.artists_username_delete(username)\n",
    "except ApiException as e:\n",
    "    print(\"Exception when calling RecordsApi->artists_username_delete: %s\\n\" % e)"
   ]
  },
  {
   "cell_type": "code",
   "execution_count": null,
   "metadata": {},
   "outputs": [],
   "source": [
    "# Configure HTTP basic authorization: BasicAuth\n",
    "configuration = swagger_client.Configuration()\n",
    "configuration.username = 'YOUR_USERNAME'\n",
    "configuration.password = 'YOUR_PASSWORD'\n",
    "\n",
    "# create an instance of the API class\n",
    "api_instance = swagger_client.RecordsApi(swagger_client.ApiClient(configuration))\n",
    "username = 'username_example' # str | \n",
    "\n",
    "try:\n",
    "    api_response = api_instance.artists_username_get(username)\n",
    "    pprint(api_response)\n",
    "except ApiException as e:\n",
    "    print(\"Exception when calling RecordsApi->artists_username_get: %s\\n\" % e)"
   ]
  },
  {
   "cell_type": "code",
   "execution_count": null,
   "metadata": {},
   "outputs": [],
   "source": [
    "# Configure HTTP basic authorization: BasicAuth\n",
    "configuration = swagger_client.Configuration()\n",
    "configuration.username = 'YOUR_USERNAME'\n",
    "configuration.password = 'YOUR_PASSWORD'\n",
    "\n",
    "# create an instance of the API class\n",
    "api_instance = swagger_client.RecordsApi(swagger_client.ApiClient(configuration))\n",
    "body = swagger_client.Artist(\"Artist1\", \"Genre2\", 4, \"username3\") # Artist | \n",
    "username = 'username_example' # str | \n",
    "\n",
    "try:\n",
    "    # Update an artist by username\n",
    "    api_instance.artists_username_put(body, username)\n",
    "except ApiException as e:\n",
    "    print(\"Exception when calling RecordsApi->artists_username_put: %s\\n\" % e)"
   ]
  }
 ],
 "metadata": {
  "kernelspec": {
   "display_name": "Python 3",
   "language": "python",
   "name": "python3"
  },
  "language_info": {
   "name": "python",
   "version": "3.11.2"
  },
  "orig_nbformat": 4
 },
 "nbformat": 4,
 "nbformat_minor": 2
}
